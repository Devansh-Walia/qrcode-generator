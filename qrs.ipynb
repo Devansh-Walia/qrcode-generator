{
 "cells": [
  {
   "cell_type": "code",
   "execution_count": 1,
   "metadata": {},
   "outputs": [
    {
     "name": "stderr",
     "output_type": "stream",
     "text": [
      "/var/folders/y3/dxpb5tm12sncwxr_czyxlxym0000gn/T/ipykernel_60476/3685918119.py:2: DeprecationWarning: \n",
      "Pyarrow will become a required dependency of pandas in the next major release of pandas (pandas 3.0),\n",
      "(to allow more performant data types, such as the Arrow string type, and better interoperability with other libraries)\n",
      "but was not found to be installed on your system.\n",
      "If this would cause problems for you,\n",
      "please provide us feedback at https://github.com/pandas-dev/pandas/issues/54466\n",
      "        \n",
      "  import pandas as pd\n"
     ]
    }
   ],
   "source": [
    "import os \n",
    "import pandas as pd\n",
    "import qrcode\n",
    "from qrcode.image.pil import PilImage"
   ]
  },
  {
   "cell_type": "code",
   "execution_count": 2,
   "metadata": {},
   "outputs": [],
   "source": [
    "if not os.path.exists('qrcodes'):\n",
    "    os.makedirs('qrcodes')  "
   ]
  },
  {
   "cell_type": "code",
   "execution_count": 3,
   "metadata": {},
   "outputs": [],
   "source": [
    "# Function to update the memberId field based on custom rules\n",
    "def update_member_id(member):\n",
    "    # Determine if the member is a \"Member\" or \"Volunteer\"\n",
    "    member_type = 'M' if member['designation'].lower() == 'member' else 'V'\n",
    "    # Extract the joining year (assuming it is contained in the current memberId string)\n",
    "    joining_year = member['memberId'].split('/')[1][2:]\n",
    "    # Split the name into first and last names\n",
    "    name_parts = member['name'].split()\n",
    "    first_name = name_parts[0]\n",
    "    last_name = name_parts[1] if len(name_parts) > 1 else ''\n",
    "\n",
    "    # Form the new member ID based on the rules\n",
    "    if last_name:\n",
    "        new_id = member_type + joining_year + first_name[:3].upper() + last_name[:3].upper()\n",
    "    else:\n",
    "        new_id = member_type + joining_year + first_name[:6].upper()\n",
    "\n",
    "        # Fill with 'ABC' if the first name is less than 6 characters\n",
    "        if len(first_name) < 6:\n",
    "            new_id = new_id.ljust(8, 'A')\n",
    "\n",
    "    return new_id"
   ]
  },
  {
   "cell_type": "code",
   "execution_count": 4,
   "metadata": {},
   "outputs": [],
   "source": [
    "# Function to update an array of objects with new member IDs\n",
    "def update_member_ids(members):\n",
    "    for member in members:\n",
    "        member['memberId'] = update_member_id(member)\n",
    "    return members"
   ]
  },
  {
   "cell_type": "code",
   "execution_count": 4,
   "metadata": {},
   "outputs": [],
   "source": [
    "updated_members = pd.read_json('updated_data.json')"
   ]
  },
  {
   "cell_type": "code",
   "execution_count": 9,
   "metadata": {},
   "outputs": [],
   "source": [
    "# save as csv\n",
    "updated_members.to_csv('updated_data.csv', index=False)"
   ]
  },
  {
   "cell_type": "code",
   "execution_count": 7,
   "metadata": {},
   "outputs": [
    {
     "data": {
      "text/html": [
       "<div>\n",
       "<style scoped>\n",
       "    .dataframe tbody tr th:only-of-type {\n",
       "        vertical-align: middle;\n",
       "    }\n",
       "\n",
       "    .dataframe tbody tr th {\n",
       "        vertical-align: top;\n",
       "    }\n",
       "\n",
       "    .dataframe thead th {\n",
       "        text-align: right;\n",
       "    }\n",
       "</style>\n",
       "<table border=\"1\" class=\"dataframe\">\n",
       "  <thead>\n",
       "    <tr style=\"text-align: right;\">\n",
       "      <th></th>\n",
       "      <th>memberId</th>\n",
       "      <th>name</th>\n",
       "      <th>designation</th>\n",
       "      <th>email</th>\n",
       "      <th>photo</th>\n",
       "      <th>bloodGroup</th>\n",
       "      <th>joiningYear</th>\n",
       "    </tr>\n",
       "  </thead>\n",
       "  <tbody>\n",
       "    <tr>\n",
       "      <th>0</th>\n",
       "      <td>M15MANRAS</td>\n",
       "      <td>Manik Rastogi</td>\n",
       "      <td>Member</td>\n",
       "      <td>manik3112@gmail.com</td>\n",
       "      <td></td>\n",
       "      <td>A+</td>\n",
       "      <td>2015</td>\n",
       "    </tr>\n",
       "    <tr>\n",
       "      <th>1</th>\n",
       "      <td>M21MRIJAI</td>\n",
       "      <td>Mridul Jaiswal</td>\n",
       "      <td>Member</td>\n",
       "      <td></td>\n",
       "      <td></td>\n",
       "      <td>AB+</td>\n",
       "      <td>2021</td>\n",
       "    </tr>\n",
       "    <tr>\n",
       "      <th>2</th>\n",
       "      <td>M12AMIRAJ</td>\n",
       "      <td>Amit Raj Singh</td>\n",
       "      <td>Member</td>\n",
       "      <td></td>\n",
       "      <td></td>\n",
       "      <td>O+</td>\n",
       "      <td>2012</td>\n",
       "    </tr>\n",
       "    <tr>\n",
       "      <th>3</th>\n",
       "      <td>M21UGERSA</td>\n",
       "      <td>Ugersain</td>\n",
       "      <td>Member</td>\n",
       "      <td></td>\n",
       "      <td></td>\n",
       "      <td></td>\n",
       "      <td>2021</td>\n",
       "    </tr>\n",
       "    <tr>\n",
       "      <th>4</th>\n",
       "      <td>M19ANSSAX</td>\n",
       "      <td>Anshul Saxena</td>\n",
       "      <td>Member</td>\n",
       "      <td></td>\n",
       "      <td></td>\n",
       "      <td>B(+)</td>\n",
       "      <td>2019</td>\n",
       "    </tr>\n",
       "  </tbody>\n",
       "</table>\n",
       "</div>"
      ],
      "text/plain": [
       "    memberId            name designation                email photo  \\\n",
       "0  M15MANRAS   Manik Rastogi      Member  manik3112@gmail.com         \n",
       "1  M21MRIJAI  Mridul Jaiswal      Member                              \n",
       "2  M12AMIRAJ  Amit Raj Singh      Member                              \n",
       "3  M21UGERSA        Ugersain      Member                              \n",
       "4  M19ANSSAX   Anshul Saxena      Member                              \n",
       "\n",
       "  bloodGroup  joiningYear  \n",
       "0         A+         2015  \n",
       "1        AB+         2021  \n",
       "2         O+         2012  \n",
       "3                    2021  \n",
       "4       B(+)         2019  "
      ]
     },
     "execution_count": 7,
     "metadata": {},
     "output_type": "execute_result"
    }
   ],
   "source": [
    "updated_members.head()"
   ]
  },
  {
   "cell_type": "code",
   "execution_count": 8,
   "metadata": {},
   "outputs": [],
   "source": [
    "url_format = 'https://www.koshishfamily.org/team?id={}'"
   ]
  },
  {
   "cell_type": "code",
   "execution_count": 11,
   "metadata": {},
   "outputs": [
    {
     "name": "stdout",
     "output_type": "stream",
     "text": [
      "Processing Manik Rastogi https://www.koshishfamily.org/team?id=M15MANRAS\n",
      "Processing Mridul Jaiswal https://www.koshishfamily.org/team?id=M21MRIJAI\n",
      "Processing Amit Raj Singh https://www.koshishfamily.org/team?id=M12AMIRAJ\n",
      "Processing Ugersain https://www.koshishfamily.org/team?id=M21UGERSA\n",
      "Processing Anshul Saxena https://www.koshishfamily.org/team?id=M19ANSSAX\n",
      "Processing Niharika Virmani https://www.koshishfamily.org/team?id=M23NIHVIR\n",
      "Processing Neha Arya https://www.koshishfamily.org/team?id=M20NEHARY\n",
      "Processing Yashraj jat https://www.koshishfamily.org/team?id=M23YASJAT\n",
      "Processing Mohamed Abrar Amjad https://www.koshishfamily.org/team?id=M23MOHABR\n",
      "Processing Prerna deep https://www.koshishfamily.org/team?id=M23PREDEE\n",
      "Processing Devansh walia https://www.koshishfamily.org/team?id=M22DEVWAL\n",
      "Processing Rashi Gupta https://www.koshishfamily.org/team?id=M22RASGUP\n",
      "Processing Prince yadav https://www.koshishfamily.org/team?id=M23PRIYAD\n",
      "Processing Prarthana Ray https://www.koshishfamily.org/team?id=M19PRARAY\n",
      "Processing Wanshika singh https://www.koshishfamily.org/team?id=M23WANSIN\n",
      "Processing Sejal singh https://www.koshishfamily.org/team?id=M20SEJSIN\n",
      "Processing Kadambari gaur https://www.koshishfamily.org/team?id=M23KADGAU\n",
      "Processing Abhishek Soni https://www.koshishfamily.org/team?id=M19ABHSON\n",
      "Processing Netrika Chhettri https://www.koshishfamily.org/team?id=M20NETCHH\n",
      "Processing Manisha Chauhan https://www.koshishfamily.org/team?id=M21MANCHA\n",
      "Processing Netrika Chhettri https://www.koshishfamily.org/team?id=M20NETCHH\n",
      "Processing Diksha singh https://www.koshishfamily.org/team?id=M22DIKSIN\n",
      "Processing Rivya Bisht https://www.koshishfamily.org/team?id=M19RIVBIS\n",
      "Processing Shrija https://www.koshishfamily.org/team?id=M20SHRIJA\n",
      "Processing Dhairya Sharma https://www.koshishfamily.org/team?id=M21DHASHA\n",
      "Processing Harshita Garg https://www.koshishfamily.org/team?id=M23HARGAR\n",
      "Processing Aryan Chaudhary https://www.koshishfamily.org/team?id=M23ARYCHA\n",
      "Processing Rahul Kumar Soni https://www.koshishfamily.org/team?id=M23RAHKUM\n",
      "Processing Asif Sheikh (Deny) https://www.koshishfamily.org/team?id=M21ASISHE\n",
      "Processing Neha Arya https://www.koshishfamily.org/team?id=M20NEHARY\n",
      "Processing Tanya Sharma https://www.koshishfamily.org/team?id=M21TANSHA\n",
      "Processing Aditya Agarwal https://www.koshishfamily.org/team?id=M20ADIAGA\n",
      "Processing Tanvi Vadiyan https://www.koshishfamily.org/team?id=M23TANVAD\n",
      "Processing Mehak Goyal https://www.koshishfamily.org/team?id=M23MEHGOY\n",
      "Processing Mehak Goyal https://www.koshishfamily.org/team?id=M23MEHGOY\n",
      "Processing Siddharth payal https://www.koshishfamily.org/team?id=M16SIDPAY\n",
      "Processing Ugersain https://www.koshishfamily.org/team?id=M21UGERSA\n",
      "Processing Tejaswa Raj Sargwan https://www.koshishfamily.org/team?id=M22TEJRAJ\n",
      "Processing Niharika Khanduri https://www.koshishfamily.org/team?id=M20NIHKHA\n",
      "Processing Tanvi Gaba https://www.koshishfamily.org/team?id=M23TANGAB\n",
      "Processing Tanvi Gaba https://www.koshishfamily.org/team?id=M23TANGAB\n",
      "Processing Nikita Singh https://www.koshishfamily.org/team?id=M23NIKSIN\n",
      "Processing Kiran Moura https://www.koshishfamily.org/team?id=M21KIRMOU\n",
      "Processing Sonali Bhatnagar https://www.koshishfamily.org/team?id=M22SONBHA\n",
      "Processing Amra afreen https://www.koshishfamily.org/team?id=M22AMRAFR\n",
      "Processing Shreya Jain https://www.koshishfamily.org/team?id=M22SHRJAI\n",
      "Processing Anjali Srivastava https://www.koshishfamily.org/team?id=M14ANJSRI\n",
      "Processing Shobhit Bhatt https://www.koshishfamily.org/team?id=M17SHOBHA\n",
      "Processing Vaishnavi Mamgain https://www.koshishfamily.org/team?id=M23VAIMAM\n",
      "Processing Utkarsh Gupta https://www.koshishfamily.org/team?id=M19UTKGUP\n",
      "Processing Poorvi Singh https://www.koshishfamily.org/team?id=M23POOSIN\n",
      "Processing Subhanshi https://www.koshishfamily.org/team?id=M23SUBHAN\n",
      "Processing Sandeep Kumar https://www.koshishfamily.org/team?id=M12SANKUM\n",
      "Processing Priyanshu Ranjan Mistry https://www.koshishfamily.org/team?id=M23PRIRAN\n",
      "Processing Dharmvir Dharmacharya https://www.koshishfamily.org/team?id=M17DHADHA\n",
      "Processing Dharmvir Dharmacharya https://www.koshishfamily.org/team?id=M17DHADHA\n",
      "Processing Abhishek rai https://www.koshishfamily.org/team?id=M23ABHRAI\n",
      "Processing Aaradhana https://www.koshishfamily.org/team?id=M21AARADH\n",
      "Processing Urooj Fatima https://www.koshishfamily.org/team?id=M23UROFAT\n"
     ]
    }
   ],
   "source": [
    "for index, row in updated_members.iterrows():\n",
    "    memberId = row['memberId']\n",
    "    name = row['name']\n",
    "    designation = row['designation']\n",
    "    email = row['email']\n",
    "    photo = row['photo']\n",
    "    bloodGroup = row['bloodGroup']\n",
    "    joiningYear = row['joiningYear']\n",
    "    \n",
    "    # Perform operations on the row data\n",
    "    url = url_format.format(memberId)\n",
    "    print(\"Processing\", name, url)\n",
    "    \n",
    "    qr = qrcode.QRCode(\n",
    "        version=1,\n",
    "        error_correction=qrcode.constants.ERROR_CORRECT_L,\n",
    "        box_size=10,\n",
    "        border=4,\n",
    "    )\n",
    "    \n",
    "    qr.add_data(url)\n",
    "    qr.make(fit=True)\n",
    "    \n",
    "    img = qr.make_image(fill_color='black', back_color='white')\n",
    "    img.save(f'qrcodes/{name}.jpeg', 'JPEG')\n",
    "    "
   ]
  }
 ],
 "metadata": {
  "kernelspec": {
   "display_name": "koshish",
   "language": "python",
   "name": "python3"
  },
  "language_info": {
   "codemirror_mode": {
    "name": "ipython",
    "version": 3
   },
   "file_extension": ".py",
   "mimetype": "text/x-python",
   "name": "python",
   "nbconvert_exporter": "python",
   "pygments_lexer": "ipython3",
   "version": "3.11.5"
  }
 },
 "nbformat": 4,
 "nbformat_minor": 2
}
