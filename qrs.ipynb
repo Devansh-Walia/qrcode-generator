{
 "cells": [
  {
   "cell_type": "code",
   "execution_count": 1,
   "metadata": {},
   "outputs": [
    {
     "name": "stderr",
     "output_type": "stream",
     "text": [
      "/var/folders/y3/dxpb5tm12sncwxr_czyxlxym0000gn/T/ipykernel_24505/3685918119.py:2: DeprecationWarning: \n",
      "Pyarrow will become a required dependency of pandas in the next major release of pandas (pandas 3.0),\n",
      "(to allow more performant data types, such as the Arrow string type, and better interoperability with other libraries)\n",
      "but was not found to be installed on your system.\n",
      "If this would cause problems for you,\n",
      "please provide us feedback at https://github.com/pandas-dev/pandas/issues/54466\n",
      "        \n",
      "  import pandas as pd\n"
     ]
    }
   ],
   "source": [
    "import os \n",
    "import pandas as pd\n",
    "import qrcode\n",
    "from qrcode.image.pil import PilImage"
   ]
  },
  {
   "cell_type": "code",
   "execution_count": 32,
   "metadata": {},
   "outputs": [],
   "source": [
    "if not os.path.exists('qrcodes'):\n",
    "    os.makedirs('qrcodes')"
   ]
  },
  {
   "cell_type": "code",
   "execution_count": 3,
   "metadata": {},
   "outputs": [],
   "source": [
    "# Function to update the memberId field based on custom rules\n",
    "def update_member_id(member):\n",
    "    # Determine if the member is a \"Member\" or \"Volunteer\"\n",
    "    member_type = 'M' if member['designation'].lower() == 'member' else 'V'\n",
    "    # Extract the joining year (assuming it is contained in the current memberId string)\n",
    "    joining_year = member['memberId'].split('/')[1][2:]\n",
    "    # Split the name into first and last names\n",
    "    name_parts = member['name'].split()\n",
    "    first_name = name_parts[0]\n",
    "    last_name = name_parts[1] if len(name_parts) > 1 else ''\n",
    "\n",
    "    # Form the new member ID based on the rules\n",
    "    if last_name:\n",
    "        new_id = member_type + joining_year + first_name[:3].upper() + last_name[:3].upper()\n",
    "    else:\n",
    "        new_id = member_type + joining_year + first_name[:6].upper()\n",
    "\n",
    "        # Fill with 'ABC' if the first name is less than 6 characters\n",
    "        if len(first_name) < 6:\n",
    "            new_id = new_id.ljust(8, 'A')\n",
    "\n",
    "    return new_id"
   ]
  },
  {
   "cell_type": "code",
   "execution_count": 4,
   "metadata": {},
   "outputs": [],
   "source": [
    "# Function to update an array of objects with new member IDs\n",
    "def update_member_ids(members):\n",
    "    for member in members:\n",
    "        member['memberId'] = update_member_id(member)\n",
    "    return members"
   ]
  },
  {
   "cell_type": "code",
   "execution_count": 5,
   "metadata": {},
   "outputs": [],
   "source": [
    "updated_members = update_member_ids(user_data)"
   ]
  },
  {
   "cell_type": "code",
   "execution_count": 9,
   "metadata": {},
   "outputs": [
    {
     "data": {
      "text/plain": [
       "{'memberId': 'M15MANRAS',\n",
       " 'name': 'Manik Rastogi',\n",
       " 'designation': 'Member',\n",
       " 'email': 'manik3112@gmail.com',\n",
       " 'photo': '',\n",
       " 'bloodGroup': 'A+'}"
      ]
     },
     "execution_count": 9,
     "metadata": {},
     "output_type": "execute_result"
    }
   ],
   "source": [
    "updated_members[0]"
   ]
  },
  {
   "cell_type": "code",
   "execution_count": 16,
   "metadata": {},
   "outputs": [],
   "source": [
    "url_format = 'https://www.koshishfamily.org/team?id={}'"
   ]
  },
  {
   "cell_type": "code",
   "execution_count": 8,
   "metadata": {},
   "outputs": [],
   "source": [
    "# save the updated data to a json file\n",
    "df = pd.DataFrame(updated_members)\n",
    "df.to_json('updated_data.json', orient='records')\n"
   ]
  },
  {
   "cell_type": "code",
   "execution_count": 21,
   "metadata": {},
   "outputs": [],
   "source": [
    "import os\n",
    "\n",
    "if not os.path.exists('qrcodes'):\n",
    "        os.makedirs('qrcodes')"
   ]
  },
  {
   "cell_type": "code",
   "execution_count": 22,
   "metadata": {},
   "outputs": [
    {
     "name": "stdout",
     "output_type": "stream",
     "text": [
      "Processing Manik Rastogi https://www.koshishfamily.org/team?id=M15MANRAS\n",
      "Processing Mridul Jaiswal https://www.koshishfamily.org/team?id=M21MRIJAI\n",
      "Processing Amit Raj Singh  https://www.koshishfamily.org/team?id=V12AMIRAJ\n",
      "Processing Ugersain https://www.koshishfamily.org/team?id=M21UGERSA\n",
      "Processing Anshul Saxena  https://www.koshishfamily.org/team?id=M19ANSSAX\n",
      "Processing Niharika Virmani https://www.koshishfamily.org/team?id=M23NIHVIR\n",
      "Processing Neha Arya  https://www.koshishfamily.org/team?id=M20NEHARY\n",
      "Processing Yashraj jat  https://www.koshishfamily.org/team?id=V23YASJAT\n",
      "Processing Mohamed Abrar Amjad  https://www.koshishfamily.org/team?id=V23MOHABR\n",
      "Processing Prerna deep https://www.koshishfamily.org/team?id=M23PREDEE\n",
      "Processing Devansh walia https://www.koshishfamily.org/team?id=V22DEVWAL\n",
      "Processing Rashi Gupta  https://www.koshishfamily.org/team?id=M22RASGUP\n",
      "Processing Prince yadav  https://www.koshishfamily.org/team?id=M23PRIYAD\n",
      "Processing Prarthana Ray https://www.koshishfamily.org/team?id=M19PRARAY\n",
      "Processing Wanshika singh  https://www.koshishfamily.org/team?id=M23WANSIN\n",
      "Processing Sejal singh https://www.koshishfamily.org/team?id=M20SEJSIN\n",
      "Processing Kadambari gaur https://www.koshishfamily.org/team?id=M23KADGAU\n",
      "Processing Abhishek Soni https://www.koshishfamily.org/team?id=M19ABHSON\n",
      "Processing Netrika Chhettri https://www.koshishfamily.org/team?id=M20NETCHH\n",
      "Processing Manisha Chauhan https://www.koshishfamily.org/team?id=M21MANCHA\n",
      "Processing Netrika Chhettri https://www.koshishfamily.org/team?id=M20NETCHH\n",
      "Processing Diksha singh  https://www.koshishfamily.org/team?id=V22DIKSIN\n",
      "Processing Rivya Bisht https://www.koshishfamily.org/team?id=M19RIVBIS\n",
      "Processing Shrija https://www.koshishfamily.org/team?id=M20SHRIJA\n",
      "Processing Dhairya Sharma  https://www.koshishfamily.org/team?id=M21DHASHA\n",
      "Processing Harshita Garg https://www.koshishfamily.org/team?id=M23HARGAR\n",
      "Processing Aryan Chaudhary https://www.koshishfamily.org/team?id=M23ARYCHA\n",
      "Processing Rahul Kumar Soni https://www.koshishfamily.org/team?id=M23RAHKUM\n",
      "Processing Asif Sheikh (Deny) https://www.koshishfamily.org/team?id=M21ASISHE\n",
      "Processing Neha Arya  https://www.koshishfamily.org/team?id=M20NEHARY\n",
      "Processing Tanya Sharma  https://www.koshishfamily.org/team?id=M21TANSHA\n",
      "Processing Aditya Agarwal https://www.koshishfamily.org/team?id=M20ADIAGA\n",
      "Processing Tanvi Vadiyan https://www.koshishfamily.org/team?id=V23TANVAD\n",
      "Processing Mehak Goyal  https://www.koshishfamily.org/team?id=M23MEHGOY\n",
      "Processing Mehak Goyal  https://www.koshishfamily.org/team?id=M23MEHGOY\n",
      "Processing Siddharth payal https://www.koshishfamily.org/team?id=M16SIDPAY\n",
      "Processing Ugersain https://www.koshishfamily.org/team?id=M21UGERSA\n",
      "Processing Tejaswa Raj Sargwan https://www.koshishfamily.org/team?id=M22TEJRAJ\n",
      "Processing Niharika Khanduri  https://www.koshishfamily.org/team?id=M20NIHKHA\n",
      "Processing Tanvi Gaba https://www.koshishfamily.org/team?id=M23TANGAB\n",
      "Processing Tanvi Gaba  https://www.koshishfamily.org/team?id=M23TANGAB\n",
      "Processing Nikita Singh https://www.koshishfamily.org/team?id=M23NIKSIN\n",
      "Processing Kiran Moura  https://www.koshishfamily.org/team?id=M21KIRMOU\n",
      "Processing Sonali Bhatnagar  https://www.koshishfamily.org/team?id=M22SONBHA\n",
      "Processing Amra afreen https://www.koshishfamily.org/team?id=M22AMRAFR\n",
      "Processing Shreya Jain https://www.koshishfamily.org/team?id=M22SHRJAI\n",
      "Processing Anjali Srivastava  https://www.koshishfamily.org/team?id=M14ANJSRI\n",
      "Processing Shobhit Bhatt https://www.koshishfamily.org/team?id=M17SHOBHA\n",
      "Processing Vaishnavi Mamgain  https://www.koshishfamily.org/team?id=V23VAIMAM\n",
      "Processing Utkarsh Gupta  https://www.koshishfamily.org/team?id=V19UTKGUP\n",
      "Processing Poorvi Singh https://www.koshishfamily.org/team?id=M23POOSIN\n",
      "Processing Subhanshi https://www.koshishfamily.org/team?id=M23SUBHAN\n",
      "Processing Sandeep Kumar https://www.koshishfamily.org/team?id=M12SANKUM\n",
      "Processing Priyanshu Ranjan Mistry  https://www.koshishfamily.org/team?id=M23PRIRAN\n",
      "Processing Dharmvir Dharmacharya  https://www.koshishfamily.org/team?id=M17DHADHA\n",
      "Processing Dharmvir Dharmacharya  https://www.koshishfamily.org/team?id=V17DHADHA\n",
      "Processing Abhishek rai https://www.koshishfamily.org/team?id=M23ABHRAI\n",
      "Processing Aaradhana  https://www.koshishfamily.org/team?id=M21AARADH\n",
      "Processing Urooj Fatima https://www.koshishfamily.org/team?id=M23UROFAT\n"
     ]
    }
   ],
   "source": [
    "for row in updated_members:\n",
    "    name = row['name']\n",
    "    url = url_format.format(row['memberId'])\n",
    "\n",
    "    print(\"Processing\", name, url)\n",
    "    \n",
    "    qr = qrcode.QRCode(\n",
    "        version=1,\n",
    "        error_correction=qrcode.constants.ERROR_CORRECT_L,\n",
    "        box_size=10,\n",
    "        border=4,\n",
    "    )\n",
    "    \n",
    "    qr.add_data(url)\n",
    "    qr.make(fit=True)\n",
    "    \n",
    "    img = qr.make_image(fill_color='black', back_color='white')\n",
    "    img.save(f'qrcodes/{name}.jpeg', 'JPEG')\n",
    "    "
   ]
  }
 ],
 "metadata": {
  "kernelspec": {
   "display_name": "koshish",
   "language": "python",
   "name": "python3"
  },
  "language_info": {
   "codemirror_mode": {
    "name": "ipython",
    "version": 3
   },
   "file_extension": ".py",
   "mimetype": "text/x-python",
   "name": "python",
   "nbconvert_exporter": "python",
   "pygments_lexer": "ipython3",
   "version": "3.11.5"
  }
 },
 "nbformat": 4,
 "nbformat_minor": 2
}
